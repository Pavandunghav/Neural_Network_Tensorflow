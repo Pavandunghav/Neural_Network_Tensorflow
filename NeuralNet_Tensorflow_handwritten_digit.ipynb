{
  "cells": [
    {
      "cell_type": "code",
      "execution_count": 5,
      "metadata": {
        "id": "T_n8EJG30p95"
      },
      "outputs": [],
      "source": [
        "###Importing all the necessary libraries\n",
        "\n",
        "\n",
        "import tensorflow as tf\n",
        "import numpy as np\n",
        "import matplotlib.pyplot as plt\n",
        "\n",
        "from tensorflow import keras\n",
        "\n"
      ]
    },
    {
      "cell_type": "code",
      "execution_count": 6,
      "metadata": {
        "colab": {
          "base_uri": "https://localhost:8080/"
        },
        "id": "yziHVD8N1DQI",
        "outputId": "005e7933-0bfb-402c-f7d4-da8a61bfd536"
      },
      "outputs": [
        {
          "output_type": "stream",
          "name": "stdout",
          "text": [
            "Downloading data from https://storage.googleapis.com/tensorflow/tf-keras-datasets/mnist.npz\n",
            "11490434/11490434 [==============================] - 1s 0us/step\n"
          ]
        }
      ],
      "source": [
        "##Collecting the dataset from keras   ##Following query will give the dataset of handwitten digits\n",
        "\n",
        "\n",
        "(x_train,y_train),(x_test,y_test)=keras.datasets.mnist.load_data()"
      ]
    },
    {
      "cell_type": "code",
      "execution_count": 7,
      "metadata": {
        "colab": {
          "base_uri": "https://localhost:8080/"
        },
        "id": "ELrBTF0h1DTA",
        "outputId": "f3efc9f6-863a-4f07-c710-ce1d13613e7c"
      },
      "outputs": [
        {
          "output_type": "execute_result",
          "data": {
            "text/plain": [
              "(array([[[0, 0, 0, ..., 0, 0, 0],\n",
              "         [0, 0, 0, ..., 0, 0, 0],\n",
              "         [0, 0, 0, ..., 0, 0, 0],\n",
              "         ...,\n",
              "         [0, 0, 0, ..., 0, 0, 0],\n",
              "         [0, 0, 0, ..., 0, 0, 0],\n",
              "         [0, 0, 0, ..., 0, 0, 0]],\n",
              " \n",
              "        [[0, 0, 0, ..., 0, 0, 0],\n",
              "         [0, 0, 0, ..., 0, 0, 0],\n",
              "         [0, 0, 0, ..., 0, 0, 0],\n",
              "         ...,\n",
              "         [0, 0, 0, ..., 0, 0, 0],\n",
              "         [0, 0, 0, ..., 0, 0, 0],\n",
              "         [0, 0, 0, ..., 0, 0, 0]],\n",
              " \n",
              "        [[0, 0, 0, ..., 0, 0, 0],\n",
              "         [0, 0, 0, ..., 0, 0, 0],\n",
              "         [0, 0, 0, ..., 0, 0, 0],\n",
              "         ...,\n",
              "         [0, 0, 0, ..., 0, 0, 0],\n",
              "         [0, 0, 0, ..., 0, 0, 0],\n",
              "         [0, 0, 0, ..., 0, 0, 0]],\n",
              " \n",
              "        ...,\n",
              " \n",
              "        [[0, 0, 0, ..., 0, 0, 0],\n",
              "         [0, 0, 0, ..., 0, 0, 0],\n",
              "         [0, 0, 0, ..., 0, 0, 0],\n",
              "         ...,\n",
              "         [0, 0, 0, ..., 0, 0, 0],\n",
              "         [0, 0, 0, ..., 0, 0, 0],\n",
              "         [0, 0, 0, ..., 0, 0, 0]],\n",
              " \n",
              "        [[0, 0, 0, ..., 0, 0, 0],\n",
              "         [0, 0, 0, ..., 0, 0, 0],\n",
              "         [0, 0, 0, ..., 0, 0, 0],\n",
              "         ...,\n",
              "         [0, 0, 0, ..., 0, 0, 0],\n",
              "         [0, 0, 0, ..., 0, 0, 0],\n",
              "         [0, 0, 0, ..., 0, 0, 0]],\n",
              " \n",
              "        [[0, 0, 0, ..., 0, 0, 0],\n",
              "         [0, 0, 0, ..., 0, 0, 0],\n",
              "         [0, 0, 0, ..., 0, 0, 0],\n",
              "         ...,\n",
              "         [0, 0, 0, ..., 0, 0, 0],\n",
              "         [0, 0, 0, ..., 0, 0, 0],\n",
              "         [0, 0, 0, ..., 0, 0, 0]]], dtype=uint8),\n",
              " array([5, 0, 4, ..., 5, 6, 8], dtype=uint8))"
            ]
          },
          "metadata": {},
          "execution_count": 7
        }
      ],
      "source": [
        "x_train,y_train\n",
        "\n"
      ]
    },
    {
      "cell_type": "code",
      "source": [],
      "metadata": {
        "id": "rwu-2fvauvO7"
      },
      "execution_count": 7,
      "outputs": []
    },
    {
      "cell_type": "code",
      "execution_count": 8,
      "metadata": {
        "id": "xstyJ27F1DWH",
        "colab": {
          "base_uri": "https://localhost:8080/"
        },
        "outputId": "31598a4a-f670-4f25-873d-90249dde86e6"
      },
      "outputs": [
        {
          "output_type": "execute_result",
          "data": {
            "text/plain": [
              "(array([[[0, 0, 0, ..., 0, 0, 0],\n",
              "         [0, 0, 0, ..., 0, 0, 0],\n",
              "         [0, 0, 0, ..., 0, 0, 0],\n",
              "         ...,\n",
              "         [0, 0, 0, ..., 0, 0, 0],\n",
              "         [0, 0, 0, ..., 0, 0, 0],\n",
              "         [0, 0, 0, ..., 0, 0, 0]],\n",
              " \n",
              "        [[0, 0, 0, ..., 0, 0, 0],\n",
              "         [0, 0, 0, ..., 0, 0, 0],\n",
              "         [0, 0, 0, ..., 0, 0, 0],\n",
              "         ...,\n",
              "         [0, 0, 0, ..., 0, 0, 0],\n",
              "         [0, 0, 0, ..., 0, 0, 0],\n",
              "         [0, 0, 0, ..., 0, 0, 0]],\n",
              " \n",
              "        [[0, 0, 0, ..., 0, 0, 0],\n",
              "         [0, 0, 0, ..., 0, 0, 0],\n",
              "         [0, 0, 0, ..., 0, 0, 0],\n",
              "         ...,\n",
              "         [0, 0, 0, ..., 0, 0, 0],\n",
              "         [0, 0, 0, ..., 0, 0, 0],\n",
              "         [0, 0, 0, ..., 0, 0, 0]],\n",
              " \n",
              "        ...,\n",
              " \n",
              "        [[0, 0, 0, ..., 0, 0, 0],\n",
              "         [0, 0, 0, ..., 0, 0, 0],\n",
              "         [0, 0, 0, ..., 0, 0, 0],\n",
              "         ...,\n",
              "         [0, 0, 0, ..., 0, 0, 0],\n",
              "         [0, 0, 0, ..., 0, 0, 0],\n",
              "         [0, 0, 0, ..., 0, 0, 0]],\n",
              " \n",
              "        [[0, 0, 0, ..., 0, 0, 0],\n",
              "         [0, 0, 0, ..., 0, 0, 0],\n",
              "         [0, 0, 0, ..., 0, 0, 0],\n",
              "         ...,\n",
              "         [0, 0, 0, ..., 0, 0, 0],\n",
              "         [0, 0, 0, ..., 0, 0, 0],\n",
              "         [0, 0, 0, ..., 0, 0, 0]],\n",
              " \n",
              "        [[0, 0, 0, ..., 0, 0, 0],\n",
              "         [0, 0, 0, ..., 0, 0, 0],\n",
              "         [0, 0, 0, ..., 0, 0, 0],\n",
              "         ...,\n",
              "         [0, 0, 0, ..., 0, 0, 0],\n",
              "         [0, 0, 0, ..., 0, 0, 0],\n",
              "         [0, 0, 0, ..., 0, 0, 0]]], dtype=uint8),\n",
              " array([7, 2, 1, ..., 4, 5, 6], dtype=uint8))"
            ]
          },
          "metadata": {},
          "execution_count": 8
        }
      ],
      "source": [
        "x_test,y_test"
      ]
    },
    {
      "cell_type": "code",
      "execution_count": 9,
      "metadata": {
        "id": "VtlO_bMj1DZP",
        "colab": {
          "base_uri": "https://localhost:8080/"
        },
        "outputId": "58171d98-ef95-4a1d-8d59-03030714002c"
      },
      "outputs": [
        {
          "output_type": "execute_result",
          "data": {
            "text/plain": [
              "(60000, 28, 28)"
            ]
          },
          "metadata": {},
          "execution_count": 9
        }
      ],
      "source": [
        "x_train.shape"
      ]
    },
    {
      "cell_type": "code",
      "source": [
        "len(x_test),len(y_test)"
      ],
      "metadata": {
        "colab": {
          "base_uri": "https://localhost:8080/"
        },
        "id": "TLOC_6IWhvMH",
        "outputId": "54941739-6e14-4c95-b337-6deb2a3db7c0"
      },
      "execution_count": 10,
      "outputs": [
        {
          "output_type": "execute_result",
          "data": {
            "text/plain": [
              "(10000, 10000)"
            ]
          },
          "metadata": {},
          "execution_count": 10
        }
      ]
    },
    {
      "cell_type": "code",
      "source": [
        "plt.imshow(x_train[30])"
      ],
      "metadata": {
        "colab": {
          "base_uri": "https://localhost:8080/",
          "height": 448
        },
        "id": "wl_n4iO9h2Dw",
        "outputId": "c77104d0-3335-44fa-9ca9-80cbe2942c69"
      },
      "execution_count": 11,
      "outputs": [
        {
          "output_type": "execute_result",
          "data": {
            "text/plain": [
              "<matplotlib.image.AxesImage at 0x7e1659419660>"
            ]
          },
          "metadata": {},
          "execution_count": 11
        },
        {
          "output_type": "display_data",
          "data": {
            "text/plain": [
              "<Figure size 640x480 with 1 Axes>"
            ],
            "image/png": "[encoded data removed]"
          },
          "metadata": {}
        }
      ]
    },
    {
      "cell_type": "code",
      "source": [
        "###WE are converting the 2d array in 1d array\n",
        "\n",
        "x_train_flatten=x_train.reshape(len(x_train),28*28)\n",
        "x_test_flatten=x_test.reshape(len(x_test),28*28)"
      ],
      "metadata": {
        "id": "Ls0MH0XLh2Gb"
      },
      "execution_count": 12,
      "outputs": []
    },
    {
      "cell_type": "code",
      "source": [
        "x_train_flatten.shape"
      ],
      "metadata": {
        "colab": {
          "base_uri": "https://localhost:8080/"
        },
        "id": "y9id1weih2I6",
        "outputId": "25527345-a811-46ba-bec4-76937f21d41e"
      },
      "execution_count": 13,
      "outputs": [
        {
          "output_type": "execute_result",
          "data": {
            "text/plain": [
              "(60000, 784)"
            ]
          },
          "metadata": {},
          "execution_count": 13
        }
      ]
    },
    {
      "cell_type": "code",
      "source": [
        "x_test_flatten.shape"
      ],
      "metadata": {
        "colab": {
          "base_uri": "https://localhost:8080/"
        },
        "id": "LbP9cxV3kPMD",
        "outputId": "a79229c7-ffa1-44dc-8fb3-44c5f80c1cc6"
      },
      "execution_count": 14,
      "outputs": [
        {
          "output_type": "execute_result",
          "data": {
            "text/plain": [
              "(10000, 784)"
            ]
          },
          "metadata": {},
          "execution_count": 14
        }
      ]
    },
    {
      "cell_type": "markdown",
      "source": [
        "###Real Model Building Starts from Here\n",
        "\n",
        "\n",
        "#we are going to build the simple sequential model\n",
        "\n",
        "\n",
        "\n"
      ],
      "metadata": {
        "id": "OVjCJyXvmyjv"
      }
    },
    {
      "cell_type": "code",
      "source": [
        "##Defining the dimensions for input and output\n",
        "\n",
        "\n",
        "input_shape_value=(784,)\n",
        "output_shape=1000\n",
        "\n",
        "\n",
        "\n"
      ],
      "metadata": {
        "id": "Cygfs07qm1II"
      },
      "execution_count": 15,
      "outputs": []
    },
    {
      "cell_type": "code",
      "source": [
        "\n",
        "     ###Following is the basic creation of the neural network\n",
        "\n",
        "\n"
      ],
      "metadata": {
        "id": "qmlBMj2eoCm8"
      },
      "execution_count": 16,
      "outputs": []
    },
    {
      "cell_type": "code",
      "source": [
        "model=keras.Sequential([\n",
        "    keras.layers.Dense(input_shape=input_shape_value,units=output_shape,activation='sigmoid'),\n",
        "    keras.layers.Dense(units=output_shape,activation='softmax')\n",
        "\n",
        "])\n",
        "\n"
      ],
      "metadata": {
        "id": "k0IfMH8XmTrW"
      },
      "execution_count": 17,
      "outputs": []
    },
    {
      "cell_type": "code",
      "source": [
        "##then we need to compile the the our neural netwrok model  whenever we use tenssorflow  or keras\n",
        "\n",
        "model.compile(\n",
        "    optimizer='adam',\n",
        "    loss='sparse_categorical_crossentropy',\n",
        "    metrics=['accuracy']\n",
        "\n",
        ")\n",
        "\n"
      ],
      "metadata": {
        "id": "lpIlqd3RqU1F"
      },
      "execution_count": 18,
      "outputs": []
    },
    {
      "cell_type": "code",
      "source": [
        "###Training the model\n",
        "\n",
        "\n",
        "\n",
        "model.fit(x_train_flatten,y_train,epochs=50)"
      ],
      "metadata": {
        "colab": {
          "base_uri": "https://localhost:8080/"
        },
        "id": "O5ei_YnnqU4q",
        "outputId": "38207396-3cfa-47e6-93c4-4732278d4fc9"
      },
      "execution_count": 19,
      "outputs": [
        {
          "output_type": "stream",
          "name": "stdout",
          "text": [
            "Epoch 1/50\n",
            "1875/1875 [==============================] - 12s 6ms/step - loss: 0.3803 - accuracy: 0.8962\n",
            "Epoch 2/50\n",
            "1875/1875 [==============================] - 11s 6ms/step - loss: 0.2706 - accuracy: 0.9217\n",
            "Epoch 3/50\n",
            "1875/1875 [==============================] - 11s 6ms/step - loss: 0.2398 - accuracy: 0.9280\n",
            "Epoch 4/50\n",
            "1875/1875 [==============================] - 11s 6ms/step - loss: 0.2180 - accuracy: 0.9348\n",
            "Epoch 5/50\n",
            "1875/1875 [==============================] - 11s 6ms/step - loss: 0.2048 - accuracy: 0.9380\n",
            "Epoch 6/50\n",
            "1875/1875 [==============================] - 11s 6ms/step - loss: 0.2102 - accuracy: 0.9370\n",
            "Epoch 7/50\n",
            "1875/1875 [==============================] - 11s 6ms/step - loss: 0.1993 - accuracy: 0.9386\n",
            "Epoch 8/50\n",
            "1875/1875 [==============================] - 11s 6ms/step - loss: 0.1933 - accuracy: 0.9409\n",
            "Epoch 9/50\n",
            "1875/1875 [==============================] - 12s 6ms/step - loss: 0.1846 - accuracy: 0.9427\n",
            "Epoch 10/50\n",
            "1875/1875 [==============================] - 12s 6ms/step - loss: 0.1822 - accuracy: 0.9436\n",
            "Epoch 11/50\n",
            "1875/1875 [==============================] - 12s 6ms/step - loss: 0.1822 - accuracy: 0.9439\n",
            "Epoch 12/50\n",
            "1875/1875 [==============================] - 13s 7ms/step - loss: 0.1755 - accuracy: 0.9462\n",
            "Epoch 13/50\n",
            "1875/1875 [==============================] - 13s 7ms/step - loss: 0.1702 - accuracy: 0.9471\n",
            "Epoch 14/50\n",
            "1875/1875 [==============================] - 12s 7ms/step - loss: 0.1701 - accuracy: 0.9499\n",
            "Epoch 15/50\n",
            "1875/1875 [==============================] - 13s 7ms/step - loss: 0.1678 - accuracy: 0.9486\n",
            "Epoch 16/50\n",
            "1875/1875 [==============================] - 12s 6ms/step - loss: 0.1696 - accuracy: 0.9482\n",
            "Epoch 17/50\n",
            "1875/1875 [==============================] - 13s 7ms/step - loss: 0.1611 - accuracy: 0.9506\n",
            "Epoch 18/50\n",
            "1875/1875 [==============================] - 15s 8ms/step - loss: 0.1597 - accuracy: 0.9519\n",
            "Epoch 19/50\n",
            "1875/1875 [==============================] - 12s 6ms/step - loss: 0.1615 - accuracy: 0.9513\n",
            "Epoch 20/50\n",
            "1875/1875 [==============================] - 12s 7ms/step - loss: 0.1511 - accuracy: 0.9544\n",
            "Epoch 21/50\n",
            "1875/1875 [==============================] - 12s 6ms/step - loss: 0.1550 - accuracy: 0.9535\n",
            "Epoch 22/50\n",
            "1875/1875 [==============================] - 12s 6ms/step - loss: 0.1521 - accuracy: 0.9531\n",
            "Epoch 23/50\n",
            "1875/1875 [==============================] - 13s 7ms/step - loss: 0.1531 - accuracy: 0.9533\n",
            "Epoch 24/50\n",
            "1875/1875 [==============================] - 14s 8ms/step - loss: 0.1429 - accuracy: 0.9560\n",
            "Epoch 25/50\n",
            "1875/1875 [==============================] - 14s 7ms/step - loss: 0.1405 - accuracy: 0.9577\n",
            "Epoch 26/50\n",
            "1875/1875 [==============================] - 13s 7ms/step - loss: 0.1437 - accuracy: 0.9564\n",
            "Epoch 27/50\n",
            "1875/1875 [==============================] - 15s 8ms/step - loss: 0.1401 - accuracy: 0.9574\n",
            "Epoch 28/50\n",
            "1875/1875 [==============================] - 18s 10ms/step - loss: 0.1399 - accuracy: 0.9567\n",
            "Epoch 29/50\n",
            "1875/1875 [==============================] - 15s 8ms/step - loss: 0.1406 - accuracy: 0.9572\n",
            "Epoch 30/50\n",
            "1875/1875 [==============================] - 13s 7ms/step - loss: 0.1464 - accuracy: 0.9559\n",
            "Epoch 31/50\n",
            "1875/1875 [==============================] - 12s 6ms/step - loss: 0.1459 - accuracy: 0.9559\n",
            "Epoch 32/50\n",
            "1875/1875 [==============================] - 12s 6ms/step - loss: 0.1450 - accuracy: 0.9564\n",
            "Epoch 33/50\n",
            "1875/1875 [==============================] - 11s 6ms/step - loss: 0.1374 - accuracy: 0.9590\n",
            "Epoch 34/50\n",
            "1875/1875 [==============================] - 10s 6ms/step - loss: 0.1292 - accuracy: 0.9619\n",
            "Epoch 35/50\n",
            "1875/1875 [==============================] - 10s 5ms/step - loss: 0.1364 - accuracy: 0.9592\n",
            "Epoch 36/50\n",
            "1875/1875 [==============================] - 12s 6ms/step - loss: 0.1410 - accuracy: 0.9582\n",
            "Epoch 37/50\n",
            "1875/1875 [==============================] - 11s 6ms/step - loss: 0.1323 - accuracy: 0.9597\n",
            "Epoch 38/50\n",
            "1875/1875 [==============================] - 11s 6ms/step - loss: 0.1286 - accuracy: 0.9604\n",
            "Epoch 39/50\n",
            "1875/1875 [==============================] - 11s 6ms/step - loss: 0.1326 - accuracy: 0.9599\n",
            "Epoch 40/50\n",
            "1875/1875 [==============================] - 11s 6ms/step - loss: 0.1310 - accuracy: 0.9611\n",
            "Epoch 41/50\n",
            "1875/1875 [==============================] - 11s 6ms/step - loss: 0.1306 - accuracy: 0.9612\n",
            "Epoch 42/50\n",
            "1875/1875 [==============================] - 12s 7ms/step - loss: 0.1290 - accuracy: 0.9616\n",
            "Epoch 43/50\n",
            "1875/1875 [==============================] - 12s 7ms/step - loss: 0.1342 - accuracy: 0.9592\n",
            "Epoch 44/50\n",
            "1875/1875 [==============================] - 12s 6ms/step - loss: 0.1274 - accuracy: 0.9618\n",
            "Epoch 45/50\n",
            "1875/1875 [==============================] - 12s 6ms/step - loss: 0.1302 - accuracy: 0.9614\n",
            "Epoch 46/50\n",
            "1875/1875 [==============================] - 13s 7ms/step - loss: 0.1239 - accuracy: 0.9631\n",
            "Epoch 47/50\n",
            "1875/1875 [==============================] - 10s 5ms/step - loss: 0.1226 - accuracy: 0.9635\n",
            "Epoch 48/50\n",
            "1875/1875 [==============================] - 9s 5ms/step - loss: 0.1271 - accuracy: 0.9613\n",
            "Epoch 49/50\n",
            "1875/1875 [==============================] - 9s 5ms/step - loss: 0.1195 - accuracy: 0.9632\n",
            "Epoch 50/50\n",
            "1875/1875 [==============================] - 9s 5ms/step - loss: 0.1146 - accuracy: 0.9650\n"
          ]
        },
        {
          "output_type": "execute_result",
          "data": {
            "text/plain": [
              "<keras.src.callbacks.History at 0x7e164acd9240>"
            ]
          },
          "metadata": {},
          "execution_count": 19
        }
      ]
    },
    {
      "cell_type": "code",
      "source": [],
      "metadata": {
        "id": "FLf0RRxyqU8S"
      },
      "execution_count": 19,
      "outputs": []
    },
    {
      "cell_type": "markdown",
      "source": [
        "###Evaluation\n",
        "\n"
      ],
      "metadata": {
        "id": "19UFh9MWy8Dg"
      }
    },
    {
      "cell_type": "code",
      "source": [
        "model.evaluate(x_test_flatten,y_test)"
      ],
      "metadata": {
        "colab": {
          "base_uri": "https://localhost:8080/"
        },
        "id": "1Up3XRqWy-qT",
        "outputId": "9be46fa2-300e-47d1-943f-34e5d55c1af7"
      },
      "execution_count": 20,
      "outputs": [
        {
          "output_type": "stream",
          "name": "stdout",
          "text": [
            "313/313 [==============================] - 2s 5ms/step - loss: 0.1420 - accuracy: 0.9615\n"
          ]
        },
        {
          "output_type": "execute_result",
          "data": {
            "text/plain": [
              "[0.14197483658790588, 0.9614999890327454]"
            ]
          },
          "metadata": {},
          "execution_count": 20
        }
      ]
    },
    {
      "cell_type": "code",
      "source": [
        "plt.imshow(x_train[100])"
      ],
      "metadata": {
        "colab": {
          "base_uri": "https://localhost:8080/",
          "height": 448
        },
        "id": "6DyNFnHmzNyr",
        "outputId": "a6dcd5c0-a340-439a-cc1d-c2afc95fa593"
      },
      "execution_count": 21,
      "outputs": [
        {
          "output_type": "execute_result",
          "data": {
            "text/plain": [
              "<matplotlib.image.AxesImage at 0x7e1640276d40>"
            ]
          },
          "metadata": {},
          "execution_count": 21
        },
        {
          "output_type": "display_data",
          "data": {
            "text/plain": [
              "<Figure size 640x480 with 1 Axes>"
            ],
            "image/png": "[encoded data removed]"
          },
          "metadata": {}
        }
      ]
    },
    {
      "cell_type": "code",
      "source": [
        "y_predicted=model.predict(x_train_flatten)\n"
      ],
      "metadata": {
        "colab": {
          "base_uri": "https://localhost:8080/"
        },
        "id": "eHgDH3xgzN2B",
        "outputId": "8f787c5e-adc5-4937-a5c2-64ba9f73893c"
      },
      "execution_count": 22,
      "outputs": [
        {
          "output_type": "stream",
          "name": "stdout",
          "text": [
            "1875/1875 [==============================] - 4s 2ms/step\n"
          ]
        }
      ]
    },
    {
      "cell_type": "code",
      "source": [
        "y_predicted[100].astype(float)"
      ],
      "metadata": {
        "id": "yAbqNH9j1Nd-",
        "outputId": "470fa110-e2a1-4089-a1f4-83a41328e7a9",
        "colab": {
          "base_uri": "https://localhost:8080/"
        }
      },
      "execution_count": 23,
      "outputs": [
        {
          "output_type": "execute_result",
          "data": {
            "text/plain": [
              "array([1.32343018e-07, 1.83998491e-04, 7.69311300e-05, 5.36334956e-05,\n",
              "       9.06421428e-06, 9.80904281e-01, 3.04805089e-05, 7.95551750e-06,\n",
              "       1.86907537e-02, 4.27669584e-05, 2.94205936e-12, 2.91958731e-12,\n",
              "       2.64063727e-12, 4.17618501e-12, 2.75236171e-12, 2.63448985e-12,\n",
              "       1.86047380e-12, 3.95932072e-12, 1.98051666e-12, 2.04146075e-12,\n",
              "       2.25352744e-12, 2.69595696e-12, 3.55369141e-12, 2.70355743e-12,\n",
              "       3.18219279e-12, 2.14198863e-12, 1.88211729e-12, 2.81260648e-12,\n",
              "       1.56567814e-12, 2.96305363e-12, 2.17581118e-12, 2.99770647e-12,\n",
              "       2.43528743e-12, 1.51661615e-12, 1.62478429e-12, 2.02116665e-12,\n",
              "       2.66705972e-12, 2.54466413e-12, 1.56310024e-12, 2.15523389e-12,\n",
              "       2.81867498e-12, 1.97278804e-12, 2.97356150e-12, 2.63570611e-12,\n",
              "       2.17861016e-12, 3.01626627e-12, 3.15782600e-12, 1.87164954e-12,\n",
              "       2.27711014e-12, 1.87379994e-12, 1.95486856e-12, 3.30141708e-12,\n",
              "       3.63074197e-12, 2.08448233e-12, 2.19700430e-12, 3.55314909e-12,\n",
              "       3.16328777e-12, 1.64328468e-12, 1.19555266e-12, 2.18157914e-12,\n",
              "       2.58037255e-12, 2.05202478e-12, 3.62679635e-12, 4.01704061e-12,\n",
              "       1.53029629e-12, 1.29903304e-12, 2.09874848e-12, 2.84593421e-12,\n",
              "       2.10826517e-12, 3.00834900e-12, 3.21252617e-12, 1.57395407e-12,\n",
              "       2.37325437e-12, 1.58197208e-12, 1.93992218e-12, 1.91814078e-12,\n",
              "       1.68106078e-12, 3.17243562e-12, 1.41479070e-12, 2.01893190e-12,\n",
              "       1.68059273e-12, 2.66794529e-12, 2.45432212e-12, 3.78452998e-12,\n",
              "       2.22759593e-12, 2.69299665e-12, 1.61862895e-12, 2.70977316e-12,\n",
              "       1.96046955e-12, 2.49580760e-12, 1.70383792e-12, 1.85057828e-12,\n",
              "       3.35775895e-12, 1.65358471e-12, 1.62801662e-12, 1.93241820e-12,\n",
              "       2.97948862e-12, 1.91034927e-12, 2.77826958e-12, 3.04730720e-12,\n",
              "       2.37700549e-12, 2.33351229e-12, 1.63078275e-12, 3.54893610e-12,\n",
              "       2.05264299e-12, 1.88064603e-12, 2.02713540e-12, 2.57870960e-12,\n",
              "       2.08085957e-12, 2.21639872e-12, 4.00052517e-12, 2.41262435e-12,\n",
              "       2.07924867e-12, 1.88455978e-12, 2.39080088e-12, 4.99860136e-12,\n",
              "       2.45927996e-12, 3.11513684e-12, 2.75035702e-12, 1.79775216e-12,\n",
              "       1.99546391e-12, 3.12358537e-12, 1.83096615e-12, 3.37503116e-12,\n",
              "       2.63159720e-12, 2.76810345e-12, 2.82657838e-12, 2.35194004e-12,\n",
              "       1.91563280e-12, 4.75808672e-12, 1.30768920e-12, 1.33199137e-12,\n",
              "       1.64810591e-12, 3.62050689e-12, 1.55329851e-12, 1.88173695e-12,\n",
              "       1.93990006e-12, 3.26722633e-12, 1.80564905e-12, 1.82756067e-12,\n",
              "       3.28588740e-12, 2.50708677e-12, 2.48019509e-12, 1.71256954e-12,\n",
              "       2.71976669e-12, 2.15589157e-12, 1.42104340e-12, 2.04029306e-12,\n",
              "       2.17537143e-12, 3.24810122e-12, 4.12106503e-12, 1.45687509e-12,\n",
              "       2.31491107e-12, 2.35589087e-12, 3.33675427e-12, 3.82541828e-12,\n",
              "       1.75027527e-12, 2.11081608e-12, 1.76791004e-12, 2.60736528e-12,\n",
              "       2.65242927e-12, 3.05364935e-12, 1.84627682e-12, 2.16939639e-12,\n",
              "       2.29487328e-12, 2.51515237e-12, 2.59932115e-12, 1.87293518e-12,\n",
              "       2.21223452e-12, 3.36517056e-12, 1.55812331e-12, 2.06806360e-12,\n",
              "       1.82386246e-12, 2.17455849e-12, 2.22537917e-12, 1.98376840e-12,\n",
              "       2.54662589e-12, 2.70643642e-12, 2.33068317e-12, 1.69137837e-12,\n",
              "       2.19612458e-12, 1.52371984e-12, 2.00124986e-12, 2.63119561e-12,\n",
              "       3.05869761e-12, 2.31660719e-12, 2.79694237e-12, 2.35400436e-12,\n",
              "       2.44886056e-12, 2.24565852e-12, 2.67934785e-12, 2.62165745e-12,\n",
              "       2.21857276e-12, 2.62369857e-12, 1.33029037e-12, 4.10178965e-12,\n",
              "       2.30453200e-12, 2.56623715e-12, 1.96581662e-12, 2.40954283e-12,\n",
              "       2.85518809e-12, 3.10628433e-12, 1.62408411e-12, 2.34027836e-12,\n",
              "       1.18206128e-12, 1.89888426e-12, 2.09124428e-12, 1.31858923e-12,\n",
              "       3.06703989e-12, 2.68603043e-12, 2.01460051e-12, 2.16976892e-12,\n",
              "       3.33605452e-12, 2.10573356e-12, 2.08606526e-12, 3.26054071e-12,\n",
              "       1.60437928e-12, 2.03801364e-12, 1.88553058e-12, 1.85211785e-12,\n",
              "       3.05023801e-12, 2.43228875e-12, 1.60108385e-12, 1.87647532e-12,\n",
              "       3.19272256e-12, 2.37246702e-12, 3.14105447e-12, 1.65805683e-12,\n",
              "       2.05492286e-12, 2.41499052e-12, 3.35549275e-12, 2.28312920e-12,\n",
              "       2.22068110e-12, 1.15517665e-12, 3.58242429e-12, 3.52746239e-12,\n",
              "       1.39712428e-12, 2.14259339e-12, 3.72581393e-12, 3.33618159e-12,\n",
              "       1.78362576e-12, 1.86730644e-12, 1.73396020e-12, 2.22155389e-12,\n",
              "       1.89235455e-12, 1.93314071e-12, 1.53425352e-12, 1.89208003e-12,\n",
              "       1.79999592e-12, 1.80975883e-12, 1.88015098e-12, 1.11258940e-12,\n",
              "       1.32610513e-12, 4.34562759e-12, 1.71189690e-12, 3.02503530e-12,\n",
              "       4.44301670e-12, 2.26710773e-12, 1.88659526e-12, 2.83429855e-12,\n",
              "       1.64007826e-12, 3.85234856e-12, 1.23043470e-12, 2.65963315e-12,\n",
              "       1.38243898e-12, 2.50479238e-12, 3.46870948e-12, 1.55502965e-12,\n",
              "       1.94519813e-12, 2.23606723e-12, 2.24774951e-12, 2.12441176e-12,\n",
              "       1.35377245e-12, 3.09445742e-12, 2.76985661e-12, 2.02132083e-12,\n",
              "       3.24786595e-12, 1.59630273e-12, 3.90919458e-12, 2.50749790e-12,\n",
              "       2.00260164e-12, 4.70423223e-12, 2.57570115e-12, 2.88924071e-12,\n",
              "       1.33974234e-12, 2.05286244e-12, 2.75147982e-12, 3.19353875e-12,\n",
              "       2.68647084e-12, 1.89118534e-12, 2.70845022e-12, 2.27421901e-12,\n",
              "       2.64622395e-12, 2.20710950e-12, 1.97960268e-12, 2.32906576e-12,\n",
              "       4.13309317e-12, 2.12725779e-12, 2.08585840e-12, 1.58205653e-12,\n",
              "       3.13377774e-12, 2.30450554e-12, 2.69412682e-12, 2.15232519e-12,\n",
              "       2.74767275e-12, 2.26564665e-12, 2.17178120e-12, 2.13828217e-12,\n",
              "       2.14199665e-12, 2.58849604e-12, 2.32660592e-12, 2.42260292e-12,\n",
              "       1.63061470e-12, 1.32754257e-12, 2.61340992e-12, 2.91161257e-12,\n",
              "       2.91919744e-12, 3.32620628e-12, 4.33260068e-12, 2.15816254e-12,\n",
              "       1.88804961e-12, 2.04632600e-12, 2.30956617e-12, 2.55520865e-12,\n",
              "       2.66087109e-12, 1.93154108e-12, 3.28638896e-12, 3.75930710e-12,\n",
              "       2.06503629e-12, 1.76227435e-12, 1.49670727e-12, 1.74662010e-12,\n",
              "       3.76315212e-12, 2.25257378e-12, 1.58905441e-12, 1.68017607e-12,\n",
              "       2.42191900e-12, 1.34841747e-12, 2.40144059e-12, 2.40304434e-12,\n",
              "       2.36360541e-12, 1.31166107e-12, 2.24774106e-12, 2.91875205e-12,\n",
              "       3.75978025e-12, 2.49245850e-12, 1.64790479e-12, 1.58591760e-12,\n",
              "       2.53227886e-12, 2.07108723e-12, 3.80876060e-12, 1.53886073e-12,\n",
              "       2.57649739e-12, 2.02257807e-12, 3.05672631e-12, 2.87237226e-12,\n",
              "       1.75014831e-12, 3.27752495e-12, 1.95932571e-12, 1.75486166e-12,\n",
              "       3.27184135e-12, 1.86933043e-12, 2.99251964e-12, 1.94669801e-12,\n",
              "       2.20586396e-12, 1.65386867e-12, 2.94863222e-12, 2.47058233e-12,\n",
              "       3.69170363e-12, 3.91975211e-12, 2.39653523e-12, 2.00849255e-12,\n",
              "       2.35840861e-12, 2.07373571e-12, 9.56437512e-13, 2.57941780e-12,\n",
              "       2.62900834e-12, 1.88974314e-12, 4.71262005e-12, 1.74684019e-12,\n",
              "       2.23142338e-12, 1.45620831e-12, 2.89021107e-12, 3.29804348e-12,\n",
              "       2.05643640e-12, 2.12869479e-12, 4.51751440e-12, 2.68222142e-12,\n",
              "       2.21973264e-12, 2.43761109e-12, 2.33650534e-12, 2.15593277e-12,\n",
              "       2.09761180e-12, 1.40317586e-12, 3.89211276e-12, 1.75585262e-12,\n",
              "       2.67644652e-12, 1.87302084e-12, 1.25164332e-12, 2.32540810e-12,\n",
              "       1.58755788e-12, 2.19499375e-12, 2.47359056e-12, 3.40759278e-12,\n",
              "       1.55696463e-12, 2.30879096e-12, 1.81818709e-12, 1.75150411e-12,\n",
              "       2.05595783e-12, 2.29680012e-12, 2.36228940e-12, 1.72012534e-12,\n",
              "       1.60279505e-12, 1.72588961e-12, 2.41203520e-12, 2.68774196e-12,\n",
              "       2.33306733e-12, 1.46291746e-12, 2.40004848e-12, 1.49972482e-12,\n",
              "       3.04191828e-12, 2.45812637e-12, 3.95492796e-12, 2.48722505e-12,\n",
              "       1.67310870e-12, 3.26717689e-12, 1.20979312e-12, 2.44414775e-12,\n",
              "       2.13675713e-12, 1.67710236e-12, 3.31184841e-12, 2.68903433e-12,\n",
              "       1.45495345e-12, 4.07662792e-12, 1.70383141e-12, 2.55553044e-12,\n",
              "       3.15095519e-12, 3.16902472e-12, 2.45884845e-12, 2.75834260e-12,\n",
              "       1.98623670e-12, 2.85705118e-12, 3.40024319e-12, 1.09042918e-12,\n",
              "       2.10719571e-12, 2.02336542e-12, 2.87290894e-12, 1.81746610e-12,\n",
              "       3.11732389e-12, 3.23440168e-12, 2.16484122e-12, 2.63190836e-12,\n",
              "       2.30719740e-12, 3.16354126e-12, 1.98004829e-12, 2.21856452e-12,\n",
              "       3.16523110e-12, 3.41828172e-12, 2.00928206e-12, 3.13537998e-12,\n",
              "       1.76251635e-12, 1.92123834e-12, 1.66383519e-12, 1.55522546e-12,\n",
              "       2.53531419e-12, 1.49664439e-12, 1.72574476e-12, 1.84817960e-12,\n",
              "       2.70081548e-12, 2.09834016e-12, 2.57249040e-12, 2.96874439e-12,\n",
              "       3.22657656e-12, 2.13403665e-12, 2.26369422e-12, 2.06327273e-12,\n",
              "       3.59312731e-12, 2.67853014e-12, 2.59082751e-12, 2.31376355e-12,\n",
              "       1.95261775e-12, 2.69187710e-12, 2.01091509e-12, 2.09878057e-12,\n",
              "       3.57969188e-12, 1.89831939e-12, 1.69546744e-12, 1.54007623e-12,\n",
              "       1.68738287e-12, 2.86292062e-12, 2.95364189e-12, 1.51187949e-12,\n",
              "       1.82639689e-12, 2.17364603e-12, 2.86091181e-12, 2.61466630e-12,\n",
              "       3.42931803e-12, 2.56354638e-12, 3.69222491e-12, 3.36273262e-12,\n",
              "       1.95925849e-12, 1.83437770e-12, 1.97647150e-12, 1.40026695e-12,\n",
              "       1.54173983e-12, 2.16747735e-12, 2.10340534e-12, 1.71174012e-12,\n",
              "       2.42378600e-12, 2.44718915e-12, 1.69994899e-12, 4.13162733e-12,\n",
              "       2.21490317e-12, 2.02128245e-12, 3.25478685e-12, 1.97258486e-12,\n",
              "       2.50251924e-12, 2.67822375e-12, 3.12316839e-12, 3.16979862e-12,\n",
              "       1.75583918e-12, 2.34163600e-12, 2.21481839e-12, 1.90227001e-12,\n",
              "       3.84380548e-12, 2.35067499e-12, 2.26715955e-12, 1.88152141e-12,\n",
              "       2.41634534e-12, 1.13960816e-12, 3.03546186e-12, 2.00205152e-12,\n",
              "       2.81584847e-12, 1.75954704e-12, 1.82570734e-12, 1.79944677e-12,\n",
              "       3.34414527e-12, 2.60062067e-12, 3.00521760e-12, 3.35842530e-12,\n",
              "       2.37476683e-12, 2.76495840e-12, 3.05728598e-12, 1.44200179e-12,\n",
              "       2.53779116e-12, 2.14169437e-12, 1.95345996e-12, 2.95816345e-12,\n",
              "       2.64117114e-12, 1.96994526e-12, 2.85288004e-12, 1.94556914e-12,\n",
              "       1.47203094e-12, 1.93576036e-12, 1.75550438e-12, 2.57291215e-12,\n",
              "       2.27786583e-12, 1.80692375e-12, 4.11583354e-12, 2.03105978e-12,\n",
              "       3.14061125e-12, 2.22018996e-12, 2.81971820e-12, 2.87414775e-12,\n",
              "       2.16664252e-12, 1.75993638e-12, 2.04994333e-12, 2.25863967e-12,\n",
              "       2.52678846e-12, 3.51840453e-12, 2.43506452e-12, 2.27698828e-12,\n",
              "       2.20392107e-12, 1.74804659e-12, 1.62596239e-12, 2.03447177e-12,\n",
              "       1.48113910e-12, 1.91999281e-12, 3.51015983e-12, 1.60035722e-12,\n",
              "       3.34646785e-12, 2.67075554e-12, 2.17891764e-12, 2.44083074e-12,\n",
              "       3.16648704e-12, 3.50210833e-12, 2.30944257e-12, 2.02466993e-12,\n",
              "       1.54700081e-12, 3.09573265e-12, 2.37081145e-12, 3.21152154e-12,\n",
              "       2.52173326e-12, 2.02695759e-12, 2.04125822e-12, 2.12205470e-12,\n",
              "       1.77663808e-12, 2.08685326e-12, 2.00165470e-12, 2.27730118e-12,\n",
              "       3.42850704e-12, 1.99612635e-12, 2.40425453e-12, 2.50737365e-12,\n",
              "       2.63192831e-12, 1.26436036e-12, 1.98631259e-12, 1.75511591e-12,\n",
              "       2.05178192e-12, 2.84406786e-12, 1.86458032e-12, 1.70375996e-12,\n",
              "       1.71727986e-12, 2.05655415e-12, 1.99018059e-12, 1.98663091e-12,\n",
              "       2.02102007e-12, 1.88881332e-12, 1.70520997e-12, 2.38331577e-12,\n",
              "       2.06719602e-12, 2.80050831e-12, 1.84080572e-12, 2.57325606e-12,\n",
              "       1.99321961e-12, 2.31960523e-12, 1.72923741e-12, 2.64854675e-12,\n",
              "       2.89337716e-12, 2.90104702e-12, 2.40134887e-12, 3.01935170e-12,\n",
              "       1.95984158e-12, 3.05444168e-12, 2.39066406e-12, 3.06536719e-12,\n",
              "       2.12644681e-12, 3.42611464e-12, 2.00840820e-12, 2.41106939e-12,\n",
              "       1.54957590e-12, 2.99336445e-12, 1.74034192e-12, 3.88182281e-12,\n",
              "       3.49994469e-12, 3.11632512e-12, 2.67858132e-12, 2.55539361e-12,\n",
              "       2.12742042e-12, 1.93825771e-12, 2.69408606e-12, 1.79803340e-12,\n",
              "       2.73576019e-12, 2.99372961e-12, 2.33519519e-12, 3.10250675e-12,\n",
              "       3.10539571e-12, 1.43421169e-12, 2.20382848e-12, 2.09540480e-12,\n",
              "       2.74551454e-12, 1.84252700e-12, 1.86048789e-12, 1.96793233e-12,\n",
              "       2.59171721e-12, 2.53379587e-12, 1.96536689e-12, 2.20967060e-12,\n",
              "       2.92335405e-12, 1.87395715e-12, 3.04034077e-12, 2.68675815e-12,\n",
              "       2.25894997e-12, 1.35768751e-12, 1.97286328e-12, 2.33050558e-12,\n",
              "       1.56422748e-12, 2.81071867e-12, 2.10300419e-12, 2.00876837e-12,\n",
              "       2.57014614e-12, 1.52364438e-12, 2.34833594e-12, 2.56481815e-12,\n",
              "       1.92415008e-12, 1.72478384e-12, 1.82003306e-12, 2.01495418e-12,\n",
              "       1.48642567e-12, 2.71276231e-12, 2.69292488e-12, 2.60654974e-12,\n",
              "       2.48276031e-12, 2.79871417e-12, 9.26979305e-13, 1.77855712e-12,\n",
              "       2.08441858e-12, 1.88156457e-12, 2.16364426e-12, 2.68714760e-12,\n",
              "       2.27005003e-12, 2.23325416e-12, 3.10109859e-12, 1.94232152e-12,\n",
              "       2.60496941e-12, 1.98512322e-12, 1.18311697e-12, 2.78463559e-12,\n",
              "       2.39039973e-12, 1.75004163e-12, 1.39989832e-12, 2.99642624e-12,\n",
              "       2.24605230e-12, 1.34345269e-12, 2.92006632e-12, 1.82370265e-12,\n",
              "       1.96726446e-12, 1.35045599e-12, 1.67986848e-12, 2.15038013e-12,\n",
              "       2.25490351e-12, 1.65030804e-12, 1.18782002e-12, 3.17164914e-12,\n",
              "       2.84504408e-12, 1.52340608e-12, 3.00714423e-12, 2.48923755e-12,\n",
              "       2.42588566e-12, 2.74005276e-12, 1.79670319e-12, 2.44221830e-12,\n",
              "       1.87777138e-12, 2.59401203e-12, 2.75670155e-12, 2.52314749e-12,\n",
              "       2.17428441e-12, 1.71981038e-12, 2.29306201e-12, 2.71091049e-12,\n",
              "       1.83408388e-12, 3.63741003e-12, 1.77400358e-12, 1.38871304e-12,\n",
              "       2.76781809e-12, 2.49228763e-12, 2.16837030e-12, 3.35563348e-12,\n",
              "       4.89620107e-12, 4.29149468e-12, 2.77688159e-12, 2.66642914e-12,\n",
              "       2.05697785e-12, 3.13479407e-12, 1.65198345e-12, 2.19869804e-12,\n",
              "       2.49481772e-12, 2.01986388e-12, 3.01351782e-12, 1.69699454e-12,\n",
              "       1.72677194e-12, 3.16897658e-12, 2.34729705e-12, 2.78243791e-12,\n",
              "       3.84579998e-12, 2.74476037e-12, 2.97096505e-12, 2.60909675e-12,\n",
              "       3.14636706e-12, 2.72125074e-12, 1.83955650e-12, 2.35141052e-12,\n",
              "       2.06817419e-12, 1.78437419e-12, 3.21033347e-12, 3.89839810e-12,\n",
              "       3.14451915e-12, 3.09672492e-12, 3.01666895e-12, 1.46196911e-12,\n",
              "       3.40886716e-12, 2.56371270e-12, 2.21710064e-12, 2.61944828e-12,\n",
              "       2.39805333e-12, 2.19178928e-12, 2.60588382e-12, 1.87212789e-12,\n",
              "       4.50483140e-12, 2.32348407e-12, 1.76908390e-12, 2.53848830e-12,\n",
              "       3.61435209e-12, 2.28439229e-12, 2.87816342e-12, 1.68116985e-12,\n",
              "       1.39273966e-12, 3.02830265e-12, 3.32491218e-12, 2.69470253e-12,\n",
              "       2.38824845e-12, 2.38808452e-12, 2.07523907e-12, 2.22671230e-12,\n",
              "       1.42255673e-12, 2.87524453e-12, 4.27314954e-12, 4.88388930e-12,\n",
              "       1.40967283e-12, 2.61944828e-12, 1.54421788e-12, 2.58367221e-12,\n",
              "       2.55110820e-12, 1.97017077e-12, 1.60164579e-12, 2.56511175e-12,\n",
              "       1.43804109e-12, 1.76525493e-12, 3.47017835e-12, 2.61503536e-12,\n",
              "       2.27660620e-12, 1.84407372e-12, 2.89120355e-12, 1.34126098e-12,\n",
              "       2.22781689e-12, 2.55789053e-12, 2.56506275e-12, 1.63596036e-12,\n",
              "       3.03424625e-12, 3.16328777e-12, 2.09641224e-12, 2.03841046e-12,\n",
              "       2.29416442e-12, 1.72834707e-12, 1.78834703e-12, 2.83901635e-12,\n",
              "       2.99281628e-12, 2.07337966e-12, 2.16738650e-12, 3.64994753e-12,\n",
              "       1.87977823e-12, 2.65913593e-12, 1.69796577e-12, 3.82203384e-12,\n",
              "       1.92470822e-12, 3.64445149e-12, 3.53148825e-12, 2.43128694e-12,\n",
              "       1.86031030e-12, 4.12860197e-12, 2.72503179e-12, 2.28829087e-12,\n",
              "       2.22656811e-12, 2.14122058e-12, 1.69619201e-12, 1.96458713e-12,\n",
              "       1.71147905e-12, 2.77464748e-12, 2.33491026e-12, 1.99409413e-12,\n",
              "       3.15260231e-12, 2.35513605e-12, 2.29864955e-12, 2.25940664e-12,\n",
              "       2.32966120e-12, 2.84285291e-12, 1.51373770e-12, 1.83325165e-12,\n",
              "       3.08837244e-12, 4.52047904e-12, 2.03472785e-12, 1.40706197e-12,\n",
              "       2.74782974e-12, 2.13616234e-12, 1.87082880e-12, 2.65378539e-12,\n",
              "       3.16956899e-12, 3.15850080e-12, 2.23626347e-12, 2.39183174e-12,\n",
              "       1.61206020e-12, 3.23065316e-12, 2.64964808e-12, 1.98020701e-12,\n",
              "       2.75043053e-12, 2.22414860e-12, 1.42287148e-12, 1.44811517e-12,\n",
              "       2.82659985e-12, 2.46003066e-12, 2.17446699e-12, 1.84688289e-12,\n",
              "       2.70608514e-12, 1.78140900e-12, 1.37005966e-12, 2.23663037e-12,\n",
              "       1.34730172e-12, 2.18772938e-12, 3.77726149e-12, 2.71293795e-12,\n",
              "       1.45001112e-12, 2.62386879e-12, 1.70249296e-12, 2.28180560e-12,\n",
              "       1.92828696e-12, 2.45310521e-12, 1.95953496e-12, 2.25585848e-12,\n",
              "       1.80819932e-12, 1.63630372e-12, 3.05730918e-12, 1.79236985e-12,\n",
              "       3.06442046e-12, 1.50894098e-12, 3.09500038e-12, 2.81434511e-12,\n",
              "       1.79004673e-12, 2.26596649e-12, 2.51177724e-12, 1.95507000e-12,\n",
              "       2.37977281e-12, 2.22604986e-12, 1.29151767e-12, 1.60491184e-12,\n",
              "       2.07376737e-12, 1.56222387e-12, 2.06444562e-12, 2.12222470e-12,\n",
              "       3.62866464e-12, 1.78386386e-12, 2.54037720e-12, 2.30323139e-12,\n",
              "       2.68555902e-12, 2.87287620e-12, 3.05754272e-12, 2.52377329e-12,\n",
              "       2.42788558e-12, 2.94368718e-12, 2.79693174e-12, 1.46995469e-12,\n",
              "       2.46371196e-12, 2.09940529e-12, 2.30430367e-12, 2.31810990e-12,\n",
              "       2.11442669e-12, 1.78349642e-12, 1.87469354e-12, 1.66327054e-12,\n",
              "       2.86106468e-12, 2.73029689e-12, 4.19656237e-12, 1.22413776e-12,\n",
              "       2.02144421e-12, 2.28689463e-12, 2.14858448e-12, 1.26584680e-12,\n",
              "       2.53000984e-12, 2.67471136e-12, 2.68960874e-12, 2.06629722e-12,\n",
              "       1.93031095e-12, 3.08193466e-12, 2.72949523e-12, 2.39376683e-12,\n",
              "       1.94738865e-12, 1.85917536e-12, 1.82757477e-12, 2.10184908e-12,\n",
              "       2.05740936e-12, 2.50154585e-12, 2.13377623e-12, 2.60383685e-12,\n",
              "       2.34037659e-12, 2.36704319e-12, 2.83863709e-12, 3.20433805e-12,\n",
              "       1.51680719e-12, 1.68684229e-12, 2.15102003e-12, 2.31675746e-12,\n",
              "       2.32521294e-12, 2.06125893e-12, 1.90665084e-12, 1.14188411e-12,\n",
              "       2.46362761e-12, 1.01748568e-12, 3.79139385e-12, 2.50459159e-12,\n",
              "       1.61714761e-12, 2.82979326e-12, 1.03755383e-12, 2.67390558e-12,\n",
              "       2.53158367e-12, 3.34366042e-12, 1.74902703e-12, 2.54245193e-12,\n",
              "       2.48650406e-12, 1.26812796e-12, 1.80406558e-12, 2.44377457e-12])"
            ]
          },
          "metadata": {},
          "execution_count": 23
        }
      ]
    },
    {
      "cell_type": "code",
      "source": [
        "np.argmax(y_predicted[100])"
      ],
      "metadata": {
        "colab": {
          "base_uri": "https://localhost:8080/"
        },
        "id": "Cv1h-ioYzN7V",
        "outputId": "25bb19b0-2eff-41c6-9bab-4e540a47b75d"
      },
      "execution_count": 24,
      "outputs": [
        {
          "output_type": "execute_result",
          "data": {
            "text/plain": [
              "5"
            ]
          },
          "metadata": {},
          "execution_count": 24
        }
      ]
    },
    {
      "cell_type": "code",
      "source": [
        "##Lets check for the multiple test cases\n",
        "\n",
        "predicted_labels=[np.argmax(i) for i in y_predicted]\n",
        "\n",
        "predicted_labels[:10]\n",
        "\n"
      ],
      "metadata": {
        "id": "TDMqgZHVzUwx",
        "colab": {
          "base_uri": "https://localhost:8080/"
        },
        "outputId": "14c27953-e761-4ef2-a718-5618290cb632"
      },
      "execution_count": 26,
      "outputs": [
        {
          "output_type": "execute_result",
          "data": {
            "text/plain": [
              "[5, 0, 4, 1, 9, 2, 1, 3, 1, 4]"
            ]
          },
          "metadata": {},
          "execution_count": 26
        }
      ]
    },
    {
      "cell_type": "code",
      "source": [],
      "metadata": {
        "id": "pSzkJhnmmPsM"
      },
      "execution_count": 24,
      "outputs": []
    },
    {
      "cell_type": "markdown",
      "source": [
        "##Storing the model\n",
        "\n"
      ],
      "metadata": {
        "id": "SrBOWnFvmyiq"
      }
    },
    {
      "cell_type": "code",
      "source": [
        "from keras import load_model"
      ],
      "metadata": {
        "colab": {
          "base_uri": "https://localhost:8080/",
          "height": 327
        },
        "id": "kdUuiueymPvb",
        "outputId": "b20938f2-4c16-4caf-fcf6-cb96a0cc622c"
      },
      "execution_count": 27,
      "outputs": [
        {
          "output_type": "error",
          "ename": "ImportError",
          "evalue": "cannot import name 'load_model' from 'keras' (/usr/local/lib/python3.10/dist-packages/keras/__init__.py)",
          "traceback": [
            "\u001b[0;31m---------------------------------------------------------------------------\u001b[0m",
            "\u001b[0;31mImportError\u001b[0m                               Traceback (most recent call last)",
            "\u001b[0;32m<ipython-input-27-03a53b2af3e6>\u001b[0m in \u001b[0;36m<cell line: 1>\u001b[0;34m()\u001b[0m\n\u001b[0;32m----> 1\u001b[0;31m \u001b[0;32mfrom\u001b[0m \u001b[0mkeras\u001b[0m \u001b[0;32mimport\u001b[0m \u001b[0mload_model\u001b[0m\u001b[0;34m\u001b[0m\u001b[0;34m\u001b[0m\u001b[0m\n\u001b[0m",
            "\u001b[0;31mImportError\u001b[0m: cannot import name 'load_model' from 'keras' (/usr/local/lib/python3.10/dist-packages/keras/__init__.py)",
            "",
            "\u001b[0;31m---------------------------------------------------------------------------\u001b[0;32m\nNOTE: If your import is failing due to a missing package, you can\nmanually install dependencies using either !pip or !apt.\n\nTo view examples of installing some common dependencies, click the\n\"Open Examples\" button below.\n\u001b[0;31m---------------------------------------------------------------------------\u001b[0m\n"
          ],
          "errorDetails": {
            "actions": [
              {
                "action": "open_url",
                "actionText": "Open Examples",
                "url": "/notebooks/snippets/importing_libraries.ipynb"
              }
            ]
          }
        }
      ]
    },
    {
      "cell_type": "code",
      "source": [
        "model.save('NN_model1')\n",
        "\n",
        "model1=model_load(\"NN_model1\")\n",
        "\n"
      ],
      "metadata": {
        "id": "e95juXKBmPyk"
      },
      "execution_count": null,
      "outputs": []
    },
    {
      "cell_type": "code",
      "source": [
        "import pickle\n",
        "\n",
        "pickle.dump(model,open(\"NN_handwritten_model.pkl\",'wb'))\n",
        "model2=pickle.load(open(\"NN_handwritten_model.pkl\",'rb'))\n",
        "\n",
        "\n",
        "\n",
        "predicted_y_test=model2.predict(x_test_flatten)\n",
        "\n",
        "\n",
        "\n",
        "labels_y_test_predicted=[np.argmax(i) for i in predicted_y_test]\n",
        "\n"
      ],
      "metadata": {
        "colab": {
          "base_uri": "https://localhost:8080/"
        },
        "id": "LJZH5yq0mP1f",
        "outputId": "f10388b9-680e-4d8f-b6a7-83f62a0e6b61"
      },
      "execution_count": 44,
      "outputs": [
        {
          "output_type": "stream",
          "name": "stdout",
          "text": [
            "313/313 [==============================] - 1s 2ms/step\n"
          ]
        }
      ]
    },
    {
      "cell_type": "code",
      "source": [
        "y_test[:10]"
      ],
      "metadata": {
        "colab": {
          "base_uri": "https://localhost:8080/"
        },
        "id": "orw9j654mP5P",
        "outputId": "7f0a36df-9fba-4b5b-b9ae-72d3af98b108"
      },
      "execution_count": 39,
      "outputs": [
        {
          "output_type": "execute_result",
          "data": {
            "text/plain": [
              "array([7, 2, 1, 0, 4, 1, 4, 9, 5, 9], dtype=uint8)"
            ]
          },
          "metadata": {},
          "execution_count": 39
        }
      ]
    },
    {
      "cell_type": "code",
      "source": [
        "y_test.shape"
      ],
      "metadata": {
        "colab": {
          "base_uri": "https://localhost:8080/"
        },
        "id": "Cuw1FwiT93Uc",
        "outputId": "fdbd6676-ffe3-46da-e772-a904e03ba70b"
      },
      "execution_count": 40,
      "outputs": [
        {
          "output_type": "execute_result",
          "data": {
            "text/plain": [
              "(10000,)"
            ]
          },
          "metadata": {},
          "execution_count": 40
        }
      ]
    },
    {
      "cell_type": "code",
      "source": [],
      "metadata": {
        "colab": {
          "base_uri": "https://localhost:8080/",
          "height": 147
        },
        "id": "XA5eM4DK95Zl",
        "outputId": "7a65bae2-5d83-4257-c1f2-982bd6895e59"
      },
      "execution_count": 46,
      "outputs": [
        {
          "output_type": "error",
          "ename": "AttributeError",
          "evalue": "'list' object has no attribute 'shape'",
          "traceback": [
            "\u001b[0;31m---------------------------------------------------------------------------\u001b[0m",
            "\u001b[0;31mAttributeError\u001b[0m                            Traceback (most recent call last)",
            "\u001b[0;32m<ipython-input-46-1162fbde911b>\u001b[0m in \u001b[0;36m<cell line: 1>\u001b[0;34m()\u001b[0m\n\u001b[0;32m----> 1\u001b[0;31m \u001b[0mlabels_y_test_predicted\u001b[0m\u001b[0;34m.\u001b[0m\u001b[0mshape\u001b[0m\u001b[0;34m\u001b[0m\u001b[0;34m\u001b[0m\u001b[0m\n\u001b[0m",
            "\u001b[0;31mAttributeError\u001b[0m: 'list' object has no attribute 'shape'"
          ]
        }
      ]
    },
    {
      "cell_type": "markdown",
      "source": [
        "##Creating the confusion matrix for the analyzing the predictions\n"
      ],
      "metadata": {
        "id": "5bZetbR09Q5S"
      }
    },
    {
      "cell_type": "code",
      "source": [
        "cm=tf.math.confusion_matrix(labels=y_test,predictions=labels_y_test_predicted)\n",
        "cm"
      ],
      "metadata": {
        "colab": {
          "base_uri": "https://localhost:8080/"
        },
        "id": "nSG9z3H89WgX",
        "outputId": "c00054ea-7c85-4f63-dc3b-d0aadb109170"
      },
      "execution_count": 48,
      "outputs": [
        {
          "output_type": "execute_result",
          "data": {
            "text/plain": [
              "<tf.Tensor: shape=(10, 10), dtype=int32, numpy=\n",
              "array([[ 965,    0,    3,    2,    1,    2,    2,    0,    2,    3],\n",
              "       [   0, 1121,    6,    3,    0,    1,    1,    0,    3,    0],\n",
              "       [   3,    0, 1011,    4,    2,    0,    2,    7,    3,    0],\n",
              "       [   0,    0,   15,  977,    0,    4,    0,    6,    7,    1],\n",
              "       [   1,    1,    7,    0,  942,    0,    5,    2,    1,   23],\n",
              "       [   8,    0,    0,   19,    0,  859,    3,    0,    2,    1],\n",
              "       [  12,    3,    6,    1,    4,   17,  913,    0,    2,    0],\n",
              "       [   1,    3,   23,    4,    2,    2,    0,  978,    1,   14],\n",
              "       [   4,    0,   16,   24,    4,   15,    1,    5,  895,   10],\n",
              "       [   6,    5,    2,   11,   13,    9,    1,    7,    1,  954]],\n",
              "      dtype=int32)>"
            ]
          },
          "metadata": {},
          "execution_count": 48
        }
      ]
    },
    {
      "cell_type": "code",
      "source": [],
      "metadata": {
        "id": "BvSEhwd7AB2D"
      },
      "execution_count": 48,
      "outputs": []
    },
    {
      "cell_type": "code",
      "source": [],
      "metadata": {
        "colab": {
          "base_uri": "https://localhost:8080/",
          "height": 646
        },
        "id": "MjNGKNikAB5d",
        "outputId": "3db82090-cc18-4d9f-f42d-5dba87a81bfb"
      },
      "execution_count": 55,
      "outputs": [
        {
          "output_type": "stream",
          "name": "stdout",
          "text": [
            "Epoch 1/20\n"
          ]
        },
        {
          "output_type": "error",
          "ename": "ValueError",
          "evalue": "in user code:\n\n    File \"/usr/local/lib/python3.10/dist-packages/keras/src/engine/training.py\", line 1401, in train_function  *\n        return step_function(self, iterator)\n    File \"/usr/local/lib/python3.10/dist-packages/keras/src/engine/training.py\", line 1384, in step_function  **\n        outputs = model.distribute_strategy.run(run_step, args=(data,))\n    File \"/usr/local/lib/python3.10/dist-packages/keras/src/engine/training.py\", line 1373, in run_step  **\n        outputs = model.train_step(data)\n    File \"/usr/local/lib/python3.10/dist-packages/keras/src/engine/training.py\", line 1150, in train_step\n        y_pred = self(x, training=True)\n    File \"/usr/local/lib/python3.10/dist-packages/keras/src/utils/traceback_utils.py\", line 70, in error_handler\n        raise e.with_traceback(filtered_tb) from None\n    File \"/usr/local/lib/python3.10/dist-packages/keras/src/engine/input_spec.py\", line 298, in assert_input_compatibility\n        raise ValueError(\n\n    ValueError: Input 0 of layer \"sequential_6\" is incompatible with the layer: expected shape=(None, 784), found shape=(32, 28, 28)\n",
          "traceback": [
            "\u001b[0;31m---------------------------------------------------------------------------\u001b[0m",
            "\u001b[0;31mValueError\u001b[0m                                Traceback (most recent call last)",
            "\u001b[0;32m<ipython-input-55-d6f187cdbe17>\u001b[0m in \u001b[0;36m<cell line: 18>\u001b[0;34m()\u001b[0m\n\u001b[1;32m     16\u001b[0m \u001b[0;34m\u001b[0m\u001b[0m\n\u001b[1;32m     17\u001b[0m \u001b[0;34m\u001b[0m\u001b[0m\n\u001b[0;32m---> 18\u001b[0;31m \u001b[0mmodel2\u001b[0m\u001b[0;34m.\u001b[0m\u001b[0mfit\u001b[0m\u001b[0;34m(\u001b[0m\u001b[0mx_train\u001b[0m\u001b[0;34m,\u001b[0m\u001b[0my_train\u001b[0m\u001b[0;34m,\u001b[0m\u001b[0mepochs\u001b[0m\u001b[0;34m=\u001b[0m\u001b[0;36m20\u001b[0m\u001b[0;34m)\u001b[0m\u001b[0;34m\u001b[0m\u001b[0;34m\u001b[0m\u001b[0m\n\u001b[0m\u001b[1;32m     19\u001b[0m \u001b[0;34m\u001b[0m\u001b[0m\n",
            "\u001b[0;32m/usr/local/lib/python3.10/dist-packages/keras/src/utils/traceback_utils.py\u001b[0m in \u001b[0;36merror_handler\u001b[0;34m(*args, **kwargs)\u001b[0m\n\u001b[1;32m     68\u001b[0m             \u001b[0;31m# To get the full stack trace, call:\u001b[0m\u001b[0;34m\u001b[0m\u001b[0;34m\u001b[0m\u001b[0m\n\u001b[1;32m     69\u001b[0m             \u001b[0;31m# `tf.debugging.disable_traceback_filtering()`\u001b[0m\u001b[0;34m\u001b[0m\u001b[0;34m\u001b[0m\u001b[0m\n\u001b[0;32m---> 70\u001b[0;31m             \u001b[0;32mraise\u001b[0m \u001b[0me\u001b[0m\u001b[0;34m.\u001b[0m\u001b[0mwith_traceback\u001b[0m\u001b[0;34m(\u001b[0m\u001b[0mfiltered_tb\u001b[0m\u001b[0;34m)\u001b[0m \u001b[0;32mfrom\u001b[0m \u001b[0;32mNone\u001b[0m\u001b[0;34m\u001b[0m\u001b[0;34m\u001b[0m\u001b[0m\n\u001b[0m\u001b[1;32m     71\u001b[0m         \u001b[0;32mfinally\u001b[0m\u001b[0;34m:\u001b[0m\u001b[0;34m\u001b[0m\u001b[0;34m\u001b[0m\u001b[0m\n\u001b[1;32m     72\u001b[0m             \u001b[0;32mdel\u001b[0m \u001b[0mfiltered_tb\u001b[0m\u001b[0;34m\u001b[0m\u001b[0;34m\u001b[0m\u001b[0m\n",
            "\u001b[0;32m/usr/local/lib/python3.10/dist-packages/keras/src/engine/training.py\u001b[0m in \u001b[0;36mtf__train_function\u001b[0;34m(iterator)\u001b[0m\n\u001b[1;32m     13\u001b[0m                 \u001b[0;32mtry\u001b[0m\u001b[0;34m:\u001b[0m\u001b[0;34m\u001b[0m\u001b[0;34m\u001b[0m\u001b[0m\n\u001b[1;32m     14\u001b[0m                     \u001b[0mdo_return\u001b[0m \u001b[0;34m=\u001b[0m \u001b[0;32mTrue\u001b[0m\u001b[0;34m\u001b[0m\u001b[0;34m\u001b[0m\u001b[0m\n\u001b[0;32m---> 15\u001b[0;31m                     \u001b[0mretval_\u001b[0m \u001b[0;34m=\u001b[0m \u001b[0mag__\u001b[0m\u001b[0;34m.\u001b[0m\u001b[0mconverted_call\u001b[0m\u001b[0;34m(\u001b[0m\u001b[0mag__\u001b[0m\u001b[0;34m.\u001b[0m\u001b[0mld\u001b[0m\u001b[0;34m(\u001b[0m\u001b[0mstep_function\u001b[0m\u001b[0;34m)\u001b[0m\u001b[0;34m,\u001b[0m \u001b[0;34m(\u001b[0m\u001b[0mag__\u001b[0m\u001b[0;34m.\u001b[0m\u001b[0mld\u001b[0m\u001b[0;34m(\u001b[0m\u001b[0mself\u001b[0m\u001b[0;34m)\u001b[0m\u001b[0;34m,\u001b[0m \u001b[0mag__\u001b[0m\u001b[0;34m.\u001b[0m\u001b[0mld\u001b[0m\u001b[0;34m(\u001b[0m\u001b[0miterator\u001b[0m\u001b[0;34m)\u001b[0m\u001b[0;34m)\u001b[0m\u001b[0;34m,\u001b[0m \u001b[0;32mNone\u001b[0m\u001b[0;34m,\u001b[0m \u001b[0mfscope\u001b[0m\u001b[0;34m)\u001b[0m\u001b[0;34m\u001b[0m\u001b[0;34m\u001b[0m\u001b[0m\n\u001b[0m\u001b[1;32m     16\u001b[0m                 \u001b[0;32mexcept\u001b[0m\u001b[0;34m:\u001b[0m\u001b[0;34m\u001b[0m\u001b[0;34m\u001b[0m\u001b[0m\n\u001b[1;32m     17\u001b[0m                     \u001b[0mdo_return\u001b[0m \u001b[0;34m=\u001b[0m \u001b[0;32mFalse\u001b[0m\u001b[0;34m\u001b[0m\u001b[0;34m\u001b[0m\u001b[0m\n",
            "\u001b[0;31mValueError\u001b[0m: in user code:\n\n    File \"/usr/local/lib/python3.10/dist-packages/keras/src/engine/training.py\", line 1401, in train_function  *\n        return step_function(self, iterator)\n    File \"/usr/local/lib/python3.10/dist-packages/keras/src/engine/training.py\", line 1384, in step_function  **\n        outputs = model.distribute_strategy.run(run_step, args=(data,))\n    File \"/usr/local/lib/python3.10/dist-packages/keras/src/engine/training.py\", line 1373, in run_step  **\n        outputs = model.train_step(data)\n    File \"/usr/local/lib/python3.10/dist-packages/keras/src/engine/training.py\", line 1150, in train_step\n        y_pred = self(x, training=True)\n    File \"/usr/local/lib/python3.10/dist-packages/keras/src/utils/traceback_utils.py\", line 70, in error_handler\n        raise e.with_traceback(filtered_tb) from None\n    File \"/usr/local/lib/python3.10/dist-packages/keras/src/engine/input_spec.py\", line 298, in assert_input_compatibility\n        raise ValueError(\n\n    ValueError: Input 0 of layer \"sequential_6\" is incompatible with the layer: expected shape=(None, 784), found shape=(32, 28, 28)\n"
          ]
        }
      ]
    },
    {
      "cell_type": "code",
      "source": [],
      "metadata": {
        "id": "Q_ONXRFnAB8O"
      },
      "execution_count": 48,
      "outputs": []
    },
    {
      "cell_type": "code",
      "source": [],
      "metadata": {
        "id": "zJceU9RiACCG"
      },
      "execution_count": null,
      "outputs": []
    }
  ],
  "metadata": {
    "colab": {
      "provenance": [],
      "gpuType": "T4"
    },
    "kernelspec": {
      "display_name": "Python 3",
      "name": "python3"
    },
    "language_info": {
      "name": "python"
    },
    "accelerator": "GPU"
  },
  "nbformat": 4,
  "nbformat_minor": 0
}